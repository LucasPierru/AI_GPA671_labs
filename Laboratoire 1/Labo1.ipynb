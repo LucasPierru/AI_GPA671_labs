{
 "cells": [
  {
   "cell_type": "code",
   "execution_count": 5,
   "metadata": {},
   "outputs": [],
   "source": [
    "import numpy as np\n",
    "import glob\n",
    "import matplotlib"
   ]
  },
  {
   "cell_type": "code",
   "execution_count": 46,
   "metadata": {},
   "outputs": [],
   "source": [
    "files = glob.glob('detection_files/*.txt')\n",
    "\n"
   ]
  },
  {
   "cell_type": "code",
   "execution_count": 8,
   "metadata": {},
   "outputs": [
    {
     "data": {
      "text/plain": [
       "['detection_files\\\\FRCNN_det.txt',\n",
       " 'detection_files\\\\HeadHunter-DPM_det.txt',\n",
       " 'detection_files\\\\PVA_det.txt',\n",
       " 'detection_files\\\\RFCN-101_det.txt',\n",
       " 'detection_files\\\\RFCN-50_det.txt',\n",
       " 'detection_files\\\\SSD_det.txt',\n",
       " 'detection_files\\\\Viola-Jones_det.txt']"
      ]
     },
     "execution_count": 8,
     "metadata": {},
     "output_type": "execute_result"
    }
   ],
   "source": [
    "files"
   ]
  },
  {
   "cell_type": "code",
   "execution_count": 68,
   "metadata": {},
   "outputs": [],
   "source": [
    "seuil = [0.1, 0.5, 0.7]"
   ]
  },
  {
   "cell_type": "code",
   "execution_count": 87,
   "metadata": {},
   "outputs": [],
   "source": [
    "TP = np.zeros((len(files),len(seuil)))\n",
    "TN = np.zeros((len(files),len(seuil)))\n",
    "FP = np.zeros((len(files),len(seuil)))\n",
    "FN = np.zeros((len(files),len(seuil)))\n",
    "Recall = np.zeros((len(files),len(seuil)))\n",
    "FPR = np.zeros((len(files),len(seuil)))\n",
    "\n",
    "for m in range (len(files)):\n",
    "    data = np.loadtxt(files[m])\n",
    "    for n in range (len(seuil)):\n",
    "        \n",
    "        for i in range (len(data)):\n",
    "            if (data[i][0]>=seuil[n]) & (data[i][1] == 1):\n",
    "                TP[m][n] = TP[m][n] + 1\n",
    "            elif (data[i][0]<seuil[n]) & (data[i][1] == 0):\n",
    "                TN[m][n] = TN[m][n] + 1\n",
    "            elif (data[i][0]<seuil[n]) & (data[i][1] == 1):\n",
    "                FN[m][n] = FN[m][n] + 1\n",
    "            else:\n",
    "                FP[m][n] = FP[m][n] + 1\n",
    "\n",
    "        Recall[m][n] = (TP[m][n])/(TP[m][n]+FN[m][n])\n",
    "        FPR[m][n] = (FP[m][n])/(FP[m][n]+TN[m][n])"
   ]
  },
  {
   "cell_type": "code",
   "execution_count": 88,
   "metadata": {},
   "outputs": [
    {
     "data": {
      "text/plain": [
       "array([[ 358.,  375.,  383.],\n",
       "       [1129., 1129., 1307.],\n",
       "       [ 394.,  434.,  473.],\n",
       "       [ 364.,  402.,  418.],\n",
       "       [ 343.,  381.,  396.],\n",
       "       [ 549., 1036., 1267.],\n",
       "       [1628., 2213., 3484.]])"
      ]
     },
     "execution_count": 88,
     "metadata": {},
     "output_type": "execute_result"
    }
   ],
   "source": [
    "FN"
   ]
  },
  {
   "cell_type": "code",
   "execution_count": 89,
   "metadata": {},
   "outputs": [
    {
     "data": {
      "text/plain": [
       "array([[0.93076774, 0.92748018, 0.92593309],\n",
       "       [0.78166699, 0.78166699, 0.74724425],\n",
       "       [0.92380584, 0.91607039, 0.90852833],\n",
       "       [0.92960743, 0.92225875, 0.91916457],\n",
       "       [0.93366854, 0.92631986, 0.92341907],\n",
       "       [0.89383098, 0.7996519 , 0.75497969],\n",
       "       [0.68516728, 0.57203636, 0.32624251]])"
      ]
     },
     "execution_count": 89,
     "metadata": {},
     "output_type": "execute_result"
    }
   ],
   "source": [
    "Recall"
   ]
  },
  {
   "cell_type": "code",
   "execution_count": 90,
   "metadata": {},
   "outputs": [
    {
     "data": {
      "text/plain": [
       "array([[1.        , 0.59746328, 0.49599466],\n",
       "       [1.        , 1.        , 0.28732394],\n",
       "       [1.        , 0.47172012, 0.32536443],\n",
       "       [1.        , 0.61653272, 0.50057405],\n",
       "       [1.        , 0.55121951, 0.46707317],\n",
       "       [1.        , 0.01723942, 0.00910332],\n",
       "       [0.96920583, 0.24959481, 0.04538088]])"
      ]
     },
     "execution_count": 90,
     "metadata": {},
     "output_type": "execute_result"
    }
   ],
   "source": [
    "FPR"
   ]
  },
  {
   "cell_type": "code",
   "execution_count": 91,
   "metadata": {},
   "outputs": [],
   "source": [
    "column_sums = TN.sum(axis=0)"
   ]
  },
  {
   "cell_type": "code",
   "execution_count": 92,
   "metadata": {},
   "outputs": [
    {
     "data": {
      "text/plain": [
       "array([1.9000e+01, 1.9947e+04, 2.1042e+04])"
      ]
     },
     "execution_count": 92,
     "metadata": {},
     "output_type": "execute_result"
    }
   ],
   "source": [
    "column_sums"
   ]
  },
  {
   "cell_type": "code",
   "execution_count": null,
   "metadata": {},
   "outputs": [],
   "source": []
  }
 ],
 "metadata": {
  "kernelspec": {
   "display_name": "Python 3",
   "language": "python",
   "name": "python3"
  },
  "language_info": {
   "codemirror_mode": {
    "name": "ipython",
    "version": 3
   },
   "file_extension": ".py",
   "mimetype": "text/x-python",
   "name": "python",
   "nbconvert_exporter": "python",
   "pygments_lexer": "ipython3",
   "version": "3.7.3"
  }
 },
 "nbformat": 4,
 "nbformat_minor": 2
}
